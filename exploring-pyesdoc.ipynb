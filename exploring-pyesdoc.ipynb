{
 "cells": [
  {
   "cell_type": "markdown",
   "metadata": {},
   "source": [
    "# Exploring pyesdoc features"
   ]
  },
  {
   "cell_type": "markdown",
   "metadata": {},
   "source": [
    "## Setup"
   ]
  },
  {
   "cell_type": "code",
   "execution_count": 1,
   "metadata": {},
   "outputs": [
    {
     "name": "stderr",
     "output_type": "stream",
     "text": [
      "/Users/a-0/.local/share/virtualenvs/esdoc-py-client-FUpxYhF1/lib/python2.7/site-packages/arrow/arrow.py:28: DeprecationWarning: Arrow will drop support for Python 2.7 and 3.5 in the upcoming v1.0.0 release. Please upgrade to Python 3.6+ to continue receiving updates for Arrow.\n",
      "  DeprecationWarning,\n"
     ]
    }
   ],
   "source": [
    "# Import library.\n",
    "import pyesdoc\n",
    "\n",
    "# Import cim v2 schema.\n",
    "import pyesdoc.ontologies.cim.v2 as cim"
   ]
  },
  {
   "cell_type": "markdown",
   "metadata": {},
   "source": [
    "## Search"
   ]
  },
  {
   "cell_type": "code",
   "execution_count": 2,
   "metadata": {},
   "outputs": [],
   "source": [
    "# Search remote archive: CMIP6 experiments.\n",
    "experiments = pyesdoc.search('cmip6', 'experiment')"
   ]
  },
  {
   "cell_type": "code",
   "execution_count": 3,
   "metadata": {},
   "outputs": [
    {
     "name": "stdout",
     "output_type": "stream",
     "text": [
      "1pctCO2\n",
      "1pctCO2-4xext\n",
      "1pctCO2-bgc\n",
      "1pctCO2-cdr\n",
      "1pctCO2-rad\n",
      "1pctCO2Ndep\n",
      "1pctCO2Ndep-bgc\n",
      "1pctCO2to4x-withism\n",
      "G1\n",
      "G6SST1\n",
      "G6SST2-solar\n",
      "G6SST2-sulfur\n",
      "G6solar\n",
      "G6sulfur\n",
      "G7SST1-cirrus\n",
      "G7SST2-cirrus\n",
      "G7cirrus\n",
      "a4SST\n",
      "a4SSTice\n",
      "a4SSTice-4xCO2\n",
      "abrupt-0p5xCO2\n",
      "abrupt-2xCO2\n",
      "abrupt-4xCO2\n",
      "abrupt-solm4p\n",
      "abrupt-solp4p\n",
      "amip\n",
      "amip-4xCO2\n",
      "amip-TIP\n",
      "amip-TIP-nosh\n",
      "amip-a4SST-4xCO2\n",
      "amip-climSIC\n",
      "amip-climSST\n",
      "amip-future4K\n",
      "amip-hist\n",
      "amip-hld\n",
      "amip-lfmip-pObs\n",
      "amip-lfmip-pdLC\n",
      "amip-lfmip-rmLC\n",
      "amip-lwoff\n",
      "amip-m4K\n",
      "amip-p4K\n",
      "amip-p4k-lwoff\n",
      "amip-piForcing\n",
      "aqua-4xCO2\n",
      "aqua-control\n",
      "aqua-control-lwoff\n",
      "aqua-p4K\n",
      "aqua-p4K-lwoff\n",
      "control-1950\n",
      "control-slab\n",
      "dcppA-assim\n",
      "dcppA-hindcast\n",
      "dcppA-hindcast-niff\n",
      "dcppA-historical-niff\n",
      "dcppB-forecast\n",
      "dcppC-amv-ExTrop-neg\n",
      "dcppC-amv-ExTrop-pos\n",
      "dcppC-amv-Trop-neg\n",
      "dcppC-amv-Trop-pos\n",
      "dcppC-amv-neg\n",
      "dcppC-amv-pos\n",
      "dcppC-atl-control\n",
      "dcppC-atl-pacemaker\n",
      "dcppC-atl-spg\n",
      "dcppC-forecast-addAgung\n",
      "dcppC-forecast-addElChichon\n",
      "dcppC-forecast-addPinatubo\n",
      "dcppC-hindcast-noAgung\n",
      "dcppC-hindcast-noElChichon\n",
      "dcppC-hindcast-noPinatubo\n",
      "dcppC-ipv-NexTrop-neg\n",
      "dcppC-ipv-NexTrop-pos\n",
      "dcppC-ipv-neg\n",
      "dcppC-ipv-pos\n",
      "dcppC-pac-control\n",
      "dcppC-pac-pacemaker\n",
      "deforest-globe\n",
      "esm-1pct-brch-1000PgC\n",
      "esm-1pct-brch-2000PgC\n",
      "esm-1pct-brch-750PgC\n",
      "esm-1pctCO2\n",
      "esm-bell-1000PgC\n",
      "esm-bell-2000PgC\n",
      "esm-bell-750PgC\n",
      "esm-hist\n",
      "esm-hist-ext\n",
      "esm-past1000\n",
      "esm-pi-CO2pulse\n",
      "esm-pi-cdr-pulse\n",
      "esm-piControl\n",
      "esm-piControl-spinup\n",
      "esm-ssp534-over\n",
      "esm-ssp585\n",
      "esm-ssp585-ocn-alk\n",
      "esm-ssp585-ocn-alk-stop\n",
      "esm-ssp585-ssp126Lu\n",
      "esm-ssp585-ssp126Lu-ext\n",
      "esm-ssp585ext\n",
      "esm-yr2010CO2-CO2pulse\n",
      "esm-yr2010CO2-cdr-pulse\n",
      "esm-yr2010CO2-control\n",
      "esm-yr2010CO2-noemit\n",
      "faf-all\n",
      "faf-antwater-stress\n",
      "faf-heat\n",
      "faf-heat-NA0pct\n",
      "faf-heat-NA50pct\n",
      "faf-passiveheat\n",
      "faf-stress\n",
      "faf-water\n",
      "futSST-pdSIC\n",
      "futureSST-4xCO2-solar\n",
      "highres-future\n",
      "highresSST-4xCO2\n",
      "highresSST-LAI\n",
      "highresSST-future\n",
      "highresSST-p4K\n",
      "highresSST-present\n",
      "highresSST-smoothed\n",
      "hist-1950\n",
      "hist-1950HC\n",
      "hist-CO2\n",
      "hist-GHG\n",
      "hist-aer\n",
      "hist-all-aer2\n",
      "hist-all-nat2\n",
      "hist-bgc\n",
      "hist-nat\n",
      "hist-noLu\n",
      "hist-piAer\n",
      "hist-piNTCF\n",
      "hist-resAMO\n",
      "hist-resIPO\n",
      "hist-sol\n",
      "hist-spAer-aer\n",
      "hist-spAer-all\n",
      "hist-stratO3\n",
      "hist-totalO3\n",
      "hist-volc\n",
      "histSST\n",
      "histSST-1950HC\n",
      "histSST-noLu\n",
      "histSST-piAer\n",
      "histSST-piCH4\n",
      "histSST-piN2O\n",
      "histSST-piNTCF\n",
      "histSST-piO3\n",
      "historical\n",
      "historical-ext\n",
      "historical-withism\n",
      "ism-1pctCO2to4x-self\n",
      "ism-1pctCO2to4x-std\n",
      "ism-amip-std\n",
      "ism-asmb-std\n",
      "ism-bsmb-std\n",
      "ism-ctrl-std\n",
      "ism-historical-self\n",
      "ism-historical-std\n",
      "ism-lig127k-std\n",
      "ism-pdControl-std\n",
      "ism-piControl-self\n",
      "ism-ssp585-self\n",
      "ism-ssp585-std\n",
      "land-cCO2\n",
      "land-cClim\n",
      "land-crop-grass\n",
      "land-crop-noFert\n",
      "land-crop-noIrrig\n",
      "land-crop-noIrrigFert\n",
      "land-hist\n",
      "land-hist-altLu1\n",
      "land-hist-altLu2\n",
      "land-hist-altStartYear\n",
      "land-hist-cruNcep\n",
      "land-hist-princeton\n",
      "land-hist-wfdei\n",
      "land-noFire\n",
      "land-noLu\n",
      "land-noPasture\n",
      "land-noShiftCultivate\n",
      "land-noWoodHarv\n",
      "land-ssp126\n",
      "land-ssp434\n",
      "land-ssp585\n",
      "lfmip-initLC\n",
      "lfmip-pdLC\n",
      "lfmip-pdLC-cruNcep\n",
      "lfmip-pdLC-princeton\n",
      "lfmip-pdLC-wfdei\n",
      "lfmip-rmLC\n",
      "lfmip-rmLC-cruNcep\n",
      "lfmip-rmLC-princeton\n",
      "lfmip-rmLC-wfdei\n",
      "lgm\n",
      "lig127k\n",
      "midHolocene\n",
      "midPliocene-eoi400\n",
      "modelSST-futArcSIC\n",
      "modelSST-pdSIC\n",
      "omip1\n",
      "omip1-spunup\n",
      "omip2\n",
      "omip2-spunup\n",
      "pa-futAntSIC\n",
      "pa-futAntSIC-ext\n",
      "pa-futArcSIC\n",
      "pa-futArcSIC-ext\n",
      "pa-pdSIC\n",
      "pa-pdSIC-ext\n",
      "pa-piAntSIC\n",
      "pa-piArcSIC\n",
      "past1000\n",
      "past1000-solaronly\n",
      "past1000-volconly\n",
      "past2k\n",
      "pdSST-futAntSIC\n",
      "pdSST-futArcSIC\n",
      "pdSST-futArcSICSIT\n",
      "pdSST-futBKSeasSIC\n",
      "pdSST-futOkhotskSIC\n",
      "pdSST-pdSIC\n",
      "pdSST-pdSICSIT\n",
      "pdSST-piAntSIC\n",
      "pdSST-piArcSIC\n",
      "piClim-2xDMS\n",
      "piClim-2xNOx\n",
      "piClim-2xVOC\n",
      "piClim-2xdust\n",
      "piClim-2xfire\n",
      "piClim-2xss\n",
      "piClim-4xCO2\n",
      "piClim-BC\n",
      "piClim-CH4\n",
      "piClim-HC\n",
      "piClim-N2O\n",
      "piClim-NH3\n",
      "piClim-NOx\n",
      "piClim-NTCF\n",
      "piClim-O3\n",
      "piClim-OC\n",
      "piClim-SO2\n",
      "piClim-VOC\n",
      "piClim-aer\n",
      "piClim-aer\n",
      "piClim-anthro\n",
      "piClim-control\n",
      "piClim-control\n",
      "piClim-ghg\n",
      "piClim-histaer\n",
      "piClim-histall\n",
      "piClim-histghg\n",
      "piClim-histnat\n",
      "piClim-lu\n",
      "piClim-spAer-aer\n",
      "piClim-spAer-anthro\n",
      "piClim-spAer-histaer\n",
      "piClim-spAer-histall\n",
      "piControl\n",
      "piControl-spinup\n",
      "piControl-withism\n",
      "piSST\n",
      "piSST-4xCO2\n",
      "piSST-4xCO2-rad\n",
      "piSST-4xCO2-solar\n",
      "piSST-pdSIC\n",
      "piSST-piSIC\n",
      "piSST-pxK\n",
      "rad-irf\n",
      "spinup-1950\n",
      "ssp119\n",
      "ssp126\n",
      "ssp126-ssp370Lu\n",
      "ssp245\n",
      "ssp245-GHG\n",
      "ssp245-aer\n",
      "ssp245-cov-GHG\n",
      "ssp245-cov-aer\n",
      "ssp245-cov-fossil\n",
      "ssp245-cov-modgreen\n",
      "ssp245-cov-strgreen\n",
      "ssp245-covid\n",
      "ssp245-nat\n",
      "ssp245-stratO3\n",
      "ssp370\n",
      "ssp370-lowNTCF\n",
      "ssp370-lowNTCFCH4\n",
      "ssp370-ssp126Lu\n",
      "ssp370SST\n",
      "ssp370SST-lowAer\n",
      "ssp370SST-lowBC\n",
      "ssp370SST-lowCH4\n",
      "ssp370SST-lowNTCF\n",
      "ssp370SST-lowNTCFCH4\n",
      "ssp370SST-lowO3\n",
      "ssp370SST-ssp126Lu\n",
      "ssp370pdSST\n",
      "ssp434\n",
      "ssp460\n",
      "ssp534-over\n",
      "ssp534-over-bgc\n",
      "ssp585\n",
      "ssp585-bgc\n",
      "ssp585-withism\n",
      "volc-cluster-21C\n",
      "volc-cluster-ctrl\n",
      "volc-cluster-mill\n",
      "volc-long-eq\n",
      "volc-long-hlN\n",
      "volc-long-hlS\n",
      "volc-pinatubo-full\n",
      "volc-pinatubo-slab\n",
      "volc-pinatubo-strat\n",
      "volc-pinatubo-surf\n",
      "yr2010CO2\n"
     ]
    }
   ],
   "source": [
    "# Search result is iterable.\n",
    "for i in experiments:\n",
    "    print i.name"
   ]
  },
  {
   "cell_type": "code",
   "execution_count": 8,
   "metadata": {},
   "outputs": [],
   "source": [
    "# Load a document from remote archive.\n",
    "e = experiments.load_document('1pctCO2')"
   ]
  },
  {
   "cell_type": "markdown",
   "metadata": {
    "collapsed": true
   },
   "source": [
    "# Encoding"
   ]
  },
  {
   "cell_type": "code",
   "execution_count": 15,
   "metadata": {},
   "outputs": [],
   "source": [
    "as_json = pyesdoc.encode(e, 'json')\n",
    "assert isinstance(as_json, basestring)"
   ]
  },
  {
   "cell_type": "code",
   "execution_count": 16,
   "metadata": {},
   "outputs": [],
   "source": [
    "as_xml = pyesdoc.encode(e, 'xml')\n",
    "assert isinstance(as_xml, basestring)"
   ]
  },
  {
   "cell_type": "markdown",
   "metadata": {},
   "source": [
    "# Creation & Validation"
   ]
  },
  {
   "cell_type": "code",
   "execution_count": 17,
   "metadata": {},
   "outputs": [
    {
     "data": {
      "text/plain": [
       "False"
      ]
     },
     "execution_count": 17,
     "metadata": {},
     "output_type": "execute_result"
    }
   ],
   "source": [
    "# Is a document valid or not.\n",
    "pyesdoc.is_valid(e)"
   ]
  },
  {
   "cell_type": "code",
   "execution_count": 18,
   "metadata": {},
   "outputs": [
    {
     "data": {
      "text/plain": [
       "['doc.required_period --> is null']"
      ]
     },
     "execution_count": 18,
     "metadata": {},
     "output_type": "execute_result"
    }
   ],
   "source": [
    "# Get validation errors.\n",
    "pyesdoc.validate(e)"
   ]
  },
  {
   "cell_type": "code",
   "execution_count": 19,
   "metadata": {},
   "outputs": [],
   "source": [
    "# Temporal constraint information is missing.\n",
    "tc = pyesdoc.create(cim.TemporalConstraint, 'cmip6')\n",
    "tc.description = 'Historical, pre-Industrial to present'\n",
    "tc.name = '1850-2014 165yrs'\n",
    "tc.canonical_name = '165yrs1850-2014'\n",
    "tc.is_conformance_info_required = False\n",
    "tc.is_conformance_requested = True"
   ]
  },
  {
   "cell_type": "code",
   "execution_count": 20,
   "metadata": {},
   "outputs": [
    {
     "data": {
      "text/plain": [
       "True"
      ]
     },
     "execution_count": 20,
     "metadata": {},
     "output_type": "execute_result"
    }
   ],
   "source": [
    "# Update experiment.\n",
    "e.required_period = tc\n",
    "\n",
    "# Revalidate\n",
    "pyesdoc.is_valid(e)"
   ]
  },
  {
   "cell_type": "markdown",
   "metadata": {},
   "source": [
    "# I/O"
   ]
  },
  {
   "cell_type": "code",
   "execution_count": 21,
   "metadata": {},
   "outputs": [
    {
     "name": "stdout",
     "output_type": "stream",
     "text": [
      "ls: /Users/a-0/.esdoc/documentation/1pctCO2.json: No such file or directory\r\n"
     ]
    }
   ],
   "source": [
    "# Set file path.\n",
    "FPATH = '~/.esdoc/documentation/1pctCO2.json'\n",
    "%ls $FPATH"
   ]
  },
  {
   "cell_type": "code",
   "execution_count": 22,
   "metadata": {},
   "outputs": [
    {
     "name": "stdout",
     "output_type": "stream",
     "text": [
      "/Users/a-0/.esdoc/documentation/1pctCO2.json\r\n"
     ]
    }
   ],
   "source": [
    "# Write to file system.\n",
    "pyesdoc.write(e, FPATH)\n",
    "%ls $FPATH"
   ]
  },
  {
   "cell_type": "code",
   "execution_count": 23,
   "metadata": {},
   "outputs": [],
   "source": [
    "# Read from file system.\n",
    "e = pyesdoc.read(FPATH)"
   ]
  },
  {
   "cell_type": "code",
   "execution_count": 24,
   "metadata": {},
   "outputs": [
    {
     "data": {
      "text/plain": [
       "True"
      ]
     },
     "execution_count": 24,
     "metadata": {},
     "output_type": "execute_result"
    }
   ],
   "source": [
    "pyesdoc.is_valid(e)"
   ]
  },
  {
   "cell_type": "code",
   "execution_count": null,
   "metadata": {},
   "outputs": [],
   "source": []
  }
 ],
 "metadata": {
  "kernelspec": {
   "display_name": "Python 2",
   "language": "python",
   "name": "python2"
  },
  "language_info": {
   "codemirror_mode": {
    "name": "ipython",
    "version": 2
   },
   "file_extension": ".py",
   "mimetype": "text/x-python",
   "name": "python",
   "nbconvert_exporter": "python",
   "pygments_lexer": "ipython2",
   "version": "2.7.18"
  }
 },
 "nbformat": 4,
 "nbformat_minor": 1
}
